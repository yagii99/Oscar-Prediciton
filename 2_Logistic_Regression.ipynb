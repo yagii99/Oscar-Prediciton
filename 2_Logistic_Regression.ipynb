{
  "nbformat": 4,
  "nbformat_minor": 0,
  "metadata": {
    "colab": {
      "name": "2_Logistic_Regression.ipynb",
      "provenance": [],
      "collapsed_sections": []
    },
    "kernelspec": {
      "name": "python3",
      "display_name": "Python 3"
    },
    "language_info": {
      "name": "python"
    }
  },
  "cells": [
    {
      "cell_type": "markdown",
      "metadata": {
        "id": "K9n2SIP8TFmU"
      },
      "source": [
        "## Classification using Logistic Regression"
      ]
    },
    {
      "cell_type": "code",
      "metadata": {
        "id": "REFedqW0S3Uo"
      },
      "source": [
        "import numpy as np\n",
        "import pandas as pd\n",
        "import matplotlib.pyplot as plt"
      ],
      "execution_count": null,
      "outputs": []
    },
    {
      "cell_type": "markdown",
      "metadata": {
        "id": "HwK580WBTI9T"
      },
      "source": [
        "Using the movies dataset, we are going to predict whether a movie will win an Oscar or not.\n",
        "\n",
        "We will select the following features to do the classification:\n",
        "\n",
        "*  title_type\n",
        "*  genre\n",
        "*  runtime\n",
        "*  mpaa_rating\n",
        "*  imdb_num_votes\n",
        "*  imdb_rating\n",
        "*  critics_rating\n",
        "*  critics_score\n",
        "*  audience_rating\n",
        "*  audience_score\n",
        "*  best_actor_win\n",
        "*  best_actress_win\n",
        "*  best_dir_win\n",
        "*  top200_box\n",
        "\n",
        "Note that \"imdb_rating\" and other deatures are now being used to predict our target variable \"best_pic_win\". We also dropped the \"best_pic_nom\" feature since we would like to predict the possibility of winning before the awards season so we should not rely on nomination information."
      ]
    },
    {
      "cell_type": "markdown",
      "metadata": {
        "id": "dfzfBW71rUtn"
      },
      "source": [
        "We first build a Dataframe using pandas function pd.read_csv,\n",
        "and drop the unwanted columns."
      ]
    },
    {
      "cell_type": "code",
      "metadata": {
        "id": "-GsOkf2STP-d"
      },
      "source": [
        "#Read csv file and grab the wanted columns:\n",
        "df = pd.read_csv('movies.csv', index_col='title')\n",
        "df.drop(['imdb_url', 'rt_url', 'thtr_rel_year', 'thtr_rel_day', 'dvd_rel_year', 'dvd_rel_day'], axis=1, inplace=True)\n",
        "\n",
        "data = df.loc[:,['title_type', 'genre', 'runtime', 'mpaa_rating', 'imdb_rating', 'imdb_num_votes', 'critics_rating', 'critics_score', 'audience_rating', 'audience_score', 'best_pic_win', 'best_actor_win', 'best_actress_win', 'best_dir_win', 'top200_box']]\n",
        "data.head()"
      ],
      "execution_count": null,
      "outputs": []
    },
    {
      "cell_type": "markdown",
      "metadata": {
        "id": "gBqOU-Bxrddd"
      },
      "source": [
        "We should see if there is missing data (NULL) and remove them from the dataset"
      ]
    },
    {
      "cell_type": "code",
      "metadata": {
        "id": "BgzwGn5Q1PZI",
        "colab": {
          "base_uri": "https://localhost:8080/"
        },
        "outputId": "6709a380-6f78-4210-bf49-6b8ba5a8b267"
      },
      "source": [
        "data.isna().sum()"
      ],
      "execution_count": null,
      "outputs": [
        {
          "output_type": "execute_result",
          "data": {
            "text/plain": [
              "title_type          0\n",
              "genre               0\n",
              "runtime             1\n",
              "mpaa_rating         0\n",
              "imdb_rating         0\n",
              "imdb_num_votes      0\n",
              "critics_rating      0\n",
              "critics_score       0\n",
              "audience_rating     0\n",
              "audience_score      0\n",
              "best_pic_win        0\n",
              "best_actor_win      0\n",
              "best_actress_win    0\n",
              "best_dir_win        0\n",
              "top200_box          0\n",
              "dtype: int64"
            ]
          },
          "metadata": {
            "tags": []
          },
          "execution_count": 4
        }
      ]
    },
    {
      "cell_type": "code",
      "metadata": {
        "id": "bxN-eNi9T9gp",
        "colab": {
          "base_uri": "https://localhost:8080/"
        },
        "outputId": "773e884b-4dde-484a-ac77-9e41e0abb984"
      },
      "source": [
        "#Remove samples with missing data\n",
        "data.dropna(axis=0, inplace=True)\n",
        "#Check the number of NULL values in each column\n",
        "data.isna().sum()"
      ],
      "execution_count": null,
      "outputs": [
        {
          "output_type": "execute_result",
          "data": {
            "text/plain": [
              "title_type          0\n",
              "genre               0\n",
              "runtime             0\n",
              "mpaa_rating         0\n",
              "imdb_rating         0\n",
              "imdb_num_votes      0\n",
              "critics_rating      0\n",
              "critics_score       0\n",
              "audience_rating     0\n",
              "audience_score      0\n",
              "best_pic_win        0\n",
              "best_actor_win      0\n",
              "best_actress_win    0\n",
              "best_dir_win        0\n",
              "top200_box          0\n",
              "dtype: int64"
            ]
          },
          "metadata": {
            "tags": []
          },
          "execution_count": 5
        }
      ]
    },
    {
      "cell_type": "markdown",
      "metadata": {
        "id": "QjuCEG961hc4"
      },
      "source": [
        "Since we have some categorical features, we will now transform them into numerical values using one-hot or dummy encoding."
      ]
    },
    {
      "cell_type": "code",
      "metadata": {
        "id": "uGE5TDTuUAxr",
        "colab": {
          "base_uri": "https://localhost:8080/",
          "height": 312
        },
        "outputId": "6c5679f8-a515-4dc9-8823-2f7e51e7e502"
      },
      "source": [
        "#one-hot Encoding\n",
        "data = pd.get_dummies(data, drop_first=True)\n",
        "data.head()"
      ],
      "execution_count": null,
      "outputs": [
        {
          "output_type": "execute_result",
          "data": {
            "text/html": [
              "<div>\n",
              "<style scoped>\n",
              "    .dataframe tbody tr th:only-of-type {\n",
              "        vertical-align: middle;\n",
              "    }\n",
              "\n",
              "    .dataframe tbody tr th {\n",
              "        vertical-align: top;\n",
              "    }\n",
              "\n",
              "    .dataframe thead th {\n",
              "        text-align: right;\n",
              "    }\n",
              "</style>\n",
              "<table border=\"1\" class=\"dataframe\">\n",
              "  <thead>\n",
              "    <tr style=\"text-align: right;\">\n",
              "      <th></th>\n",
              "      <th>runtime</th>\n",
              "      <th>imdb_rating</th>\n",
              "      <th>imdb_num_votes</th>\n",
              "      <th>critics_score</th>\n",
              "      <th>audience_score</th>\n",
              "      <th>title_type_Feature Film</th>\n",
              "      <th>title_type_TV Movie</th>\n",
              "      <th>genre_Animation</th>\n",
              "      <th>genre_Art House &amp; International</th>\n",
              "      <th>genre_Comedy</th>\n",
              "      <th>genre_Documentary</th>\n",
              "      <th>genre_Drama</th>\n",
              "      <th>genre_Horror</th>\n",
              "      <th>genre_Musical &amp; Performing Arts</th>\n",
              "      <th>genre_Mystery &amp; Suspense</th>\n",
              "      <th>genre_Other</th>\n",
              "      <th>genre_Science Fiction &amp; Fantasy</th>\n",
              "      <th>mpaa_rating_NC-17</th>\n",
              "      <th>mpaa_rating_PG</th>\n",
              "      <th>mpaa_rating_PG-13</th>\n",
              "      <th>mpaa_rating_R</th>\n",
              "      <th>mpaa_rating_Unrated</th>\n",
              "      <th>critics_rating_Fresh</th>\n",
              "      <th>critics_rating_Rotten</th>\n",
              "      <th>audience_rating_Upright</th>\n",
              "      <th>best_pic_win_yes</th>\n",
              "      <th>best_actor_win_yes</th>\n",
              "      <th>best_actress_win_yes</th>\n",
              "      <th>best_dir_win_yes</th>\n",
              "      <th>top200_box_yes</th>\n",
              "    </tr>\n",
              "    <tr>\n",
              "      <th>title</th>\n",
              "      <th></th>\n",
              "      <th></th>\n",
              "      <th></th>\n",
              "      <th></th>\n",
              "      <th></th>\n",
              "      <th></th>\n",
              "      <th></th>\n",
              "      <th></th>\n",
              "      <th></th>\n",
              "      <th></th>\n",
              "      <th></th>\n",
              "      <th></th>\n",
              "      <th></th>\n",
              "      <th></th>\n",
              "      <th></th>\n",
              "      <th></th>\n",
              "      <th></th>\n",
              "      <th></th>\n",
              "      <th></th>\n",
              "      <th></th>\n",
              "      <th></th>\n",
              "      <th></th>\n",
              "      <th></th>\n",
              "      <th></th>\n",
              "      <th></th>\n",
              "      <th></th>\n",
              "      <th></th>\n",
              "      <th></th>\n",
              "      <th></th>\n",
              "      <th></th>\n",
              "    </tr>\n",
              "  </thead>\n",
              "  <tbody>\n",
              "    <tr>\n",
              "      <th>Filly Brown</th>\n",
              "      <td>80.0</td>\n",
              "      <td>5.5</td>\n",
              "      <td>899</td>\n",
              "      <td>45</td>\n",
              "      <td>73</td>\n",
              "      <td>1</td>\n",
              "      <td>0</td>\n",
              "      <td>0</td>\n",
              "      <td>0</td>\n",
              "      <td>0</td>\n",
              "      <td>0</td>\n",
              "      <td>1</td>\n",
              "      <td>0</td>\n",
              "      <td>0</td>\n",
              "      <td>0</td>\n",
              "      <td>0</td>\n",
              "      <td>0</td>\n",
              "      <td>0</td>\n",
              "      <td>0</td>\n",
              "      <td>0</td>\n",
              "      <td>1</td>\n",
              "      <td>0</td>\n",
              "      <td>0</td>\n",
              "      <td>1</td>\n",
              "      <td>1</td>\n",
              "      <td>0</td>\n",
              "      <td>0</td>\n",
              "      <td>0</td>\n",
              "      <td>0</td>\n",
              "      <td>0</td>\n",
              "    </tr>\n",
              "    <tr>\n",
              "      <th>The Dish</th>\n",
              "      <td>101.0</td>\n",
              "      <td>7.3</td>\n",
              "      <td>12285</td>\n",
              "      <td>96</td>\n",
              "      <td>81</td>\n",
              "      <td>1</td>\n",
              "      <td>0</td>\n",
              "      <td>0</td>\n",
              "      <td>0</td>\n",
              "      <td>0</td>\n",
              "      <td>0</td>\n",
              "      <td>1</td>\n",
              "      <td>0</td>\n",
              "      <td>0</td>\n",
              "      <td>0</td>\n",
              "      <td>0</td>\n",
              "      <td>0</td>\n",
              "      <td>0</td>\n",
              "      <td>0</td>\n",
              "      <td>1</td>\n",
              "      <td>0</td>\n",
              "      <td>0</td>\n",
              "      <td>0</td>\n",
              "      <td>0</td>\n",
              "      <td>1</td>\n",
              "      <td>0</td>\n",
              "      <td>0</td>\n",
              "      <td>0</td>\n",
              "      <td>0</td>\n",
              "      <td>0</td>\n",
              "    </tr>\n",
              "    <tr>\n",
              "      <th>Waiting for Guffman</th>\n",
              "      <td>84.0</td>\n",
              "      <td>7.6</td>\n",
              "      <td>22381</td>\n",
              "      <td>91</td>\n",
              "      <td>91</td>\n",
              "      <td>1</td>\n",
              "      <td>0</td>\n",
              "      <td>0</td>\n",
              "      <td>0</td>\n",
              "      <td>1</td>\n",
              "      <td>0</td>\n",
              "      <td>0</td>\n",
              "      <td>0</td>\n",
              "      <td>0</td>\n",
              "      <td>0</td>\n",
              "      <td>0</td>\n",
              "      <td>0</td>\n",
              "      <td>0</td>\n",
              "      <td>0</td>\n",
              "      <td>0</td>\n",
              "      <td>1</td>\n",
              "      <td>0</td>\n",
              "      <td>0</td>\n",
              "      <td>0</td>\n",
              "      <td>1</td>\n",
              "      <td>0</td>\n",
              "      <td>0</td>\n",
              "      <td>0</td>\n",
              "      <td>0</td>\n",
              "      <td>0</td>\n",
              "    </tr>\n",
              "    <tr>\n",
              "      <th>The Age of Innocence</th>\n",
              "      <td>139.0</td>\n",
              "      <td>7.2</td>\n",
              "      <td>35096</td>\n",
              "      <td>80</td>\n",
              "      <td>76</td>\n",
              "      <td>1</td>\n",
              "      <td>0</td>\n",
              "      <td>0</td>\n",
              "      <td>0</td>\n",
              "      <td>0</td>\n",
              "      <td>0</td>\n",
              "      <td>1</td>\n",
              "      <td>0</td>\n",
              "      <td>0</td>\n",
              "      <td>0</td>\n",
              "      <td>0</td>\n",
              "      <td>0</td>\n",
              "      <td>0</td>\n",
              "      <td>1</td>\n",
              "      <td>0</td>\n",
              "      <td>0</td>\n",
              "      <td>0</td>\n",
              "      <td>0</td>\n",
              "      <td>0</td>\n",
              "      <td>1</td>\n",
              "      <td>0</td>\n",
              "      <td>1</td>\n",
              "      <td>0</td>\n",
              "      <td>1</td>\n",
              "      <td>0</td>\n",
              "    </tr>\n",
              "    <tr>\n",
              "      <th>Malevolence</th>\n",
              "      <td>90.0</td>\n",
              "      <td>5.1</td>\n",
              "      <td>2386</td>\n",
              "      <td>33</td>\n",
              "      <td>27</td>\n",
              "      <td>1</td>\n",
              "      <td>0</td>\n",
              "      <td>0</td>\n",
              "      <td>0</td>\n",
              "      <td>0</td>\n",
              "      <td>0</td>\n",
              "      <td>0</td>\n",
              "      <td>1</td>\n",
              "      <td>0</td>\n",
              "      <td>0</td>\n",
              "      <td>0</td>\n",
              "      <td>0</td>\n",
              "      <td>0</td>\n",
              "      <td>0</td>\n",
              "      <td>0</td>\n",
              "      <td>1</td>\n",
              "      <td>0</td>\n",
              "      <td>0</td>\n",
              "      <td>1</td>\n",
              "      <td>0</td>\n",
              "      <td>0</td>\n",
              "      <td>0</td>\n",
              "      <td>0</td>\n",
              "      <td>0</td>\n",
              "      <td>0</td>\n",
              "    </tr>\n",
              "  </tbody>\n",
              "</table>\n",
              "</div>"
            ],
            "text/plain": [
              "                      runtime  imdb_rating  ...  best_dir_win_yes  top200_box_yes\n",
              "title                                       ...                                  \n",
              "Filly Brown              80.0          5.5  ...                 0               0\n",
              "The Dish                101.0          7.3  ...                 0               0\n",
              "Waiting for Guffman      84.0          7.6  ...                 0               0\n",
              "The Age of Innocence    139.0          7.2  ...                 1               0\n",
              "Malevolence              90.0          5.1  ...                 0               0\n",
              "\n",
              "[5 rows x 30 columns]"
            ]
          },
          "metadata": {
            "tags": []
          },
          "execution_count": 6
        }
      ]
    },
    {
      "cell_type": "markdown",
      "metadata": {
        "id": "7iPu--wW1xB1"
      },
      "source": [
        "Since the range of values for each feature are different, we bring all values in the same standing, by scaling them, so that one significant number doesn’t impact the model just because of their large magnitude.\n",
        "\n",
        "The StandardScaler function will transform our data such that its distribution will have a mean value 0 and standard deviation of 1."
      ]
    },
    {
      "cell_type": "code",
      "metadata": {
        "id": "E-0XwLrcUCXj",
        "colab": {
          "base_uri": "https://localhost:8080/",
          "height": 312
        },
        "outputId": "5ae8fef4-1201-4984-d427-52a8b98fcb91"
      },
      "source": [
        "#Scaling \n",
        "from sklearn.preprocessing import StandardScaler\n",
        "\n",
        "scaler = StandardScaler()\n",
        "\n",
        "list_num_features = ['runtime', 'imdb_num_votes', 'imdb_rating', 'critics_score', 'audience_score']\n",
        "data.loc[:,list_num_features] = scaler.fit_transform(data.loc[:,list_num_features])\n",
        "data.head()"
      ],
      "execution_count": null,
      "outputs": [
        {
          "output_type": "execute_result",
          "data": {
            "text/html": [
              "<div>\n",
              "<style scoped>\n",
              "    .dataframe tbody tr th:only-of-type {\n",
              "        vertical-align: middle;\n",
              "    }\n",
              "\n",
              "    .dataframe tbody tr th {\n",
              "        vertical-align: top;\n",
              "    }\n",
              "\n",
              "    .dataframe thead th {\n",
              "        text-align: right;\n",
              "    }\n",
              "</style>\n",
              "<table border=\"1\" class=\"dataframe\">\n",
              "  <thead>\n",
              "    <tr style=\"text-align: right;\">\n",
              "      <th></th>\n",
              "      <th>runtime</th>\n",
              "      <th>imdb_rating</th>\n",
              "      <th>imdb_num_votes</th>\n",
              "      <th>critics_score</th>\n",
              "      <th>audience_score</th>\n",
              "      <th>title_type_Feature Film</th>\n",
              "      <th>title_type_TV Movie</th>\n",
              "      <th>genre_Animation</th>\n",
              "      <th>genre_Art House &amp; International</th>\n",
              "      <th>genre_Comedy</th>\n",
              "      <th>genre_Documentary</th>\n",
              "      <th>genre_Drama</th>\n",
              "      <th>genre_Horror</th>\n",
              "      <th>genre_Musical &amp; Performing Arts</th>\n",
              "      <th>genre_Mystery &amp; Suspense</th>\n",
              "      <th>genre_Other</th>\n",
              "      <th>genre_Science Fiction &amp; Fantasy</th>\n",
              "      <th>mpaa_rating_NC-17</th>\n",
              "      <th>mpaa_rating_PG</th>\n",
              "      <th>mpaa_rating_PG-13</th>\n",
              "      <th>mpaa_rating_R</th>\n",
              "      <th>mpaa_rating_Unrated</th>\n",
              "      <th>critics_rating_Fresh</th>\n",
              "      <th>critics_rating_Rotten</th>\n",
              "      <th>audience_rating_Upright</th>\n",
              "      <th>best_pic_win_yes</th>\n",
              "      <th>best_actor_win_yes</th>\n",
              "      <th>best_actress_win_yes</th>\n",
              "      <th>best_dir_win_yes</th>\n",
              "      <th>top200_box_yes</th>\n",
              "    </tr>\n",
              "    <tr>\n",
              "      <th>title</th>\n",
              "      <th></th>\n",
              "      <th></th>\n",
              "      <th></th>\n",
              "      <th></th>\n",
              "      <th></th>\n",
              "      <th></th>\n",
              "      <th></th>\n",
              "      <th></th>\n",
              "      <th></th>\n",
              "      <th></th>\n",
              "      <th></th>\n",
              "      <th></th>\n",
              "      <th></th>\n",
              "      <th></th>\n",
              "      <th></th>\n",
              "      <th></th>\n",
              "      <th></th>\n",
              "      <th></th>\n",
              "      <th></th>\n",
              "      <th></th>\n",
              "      <th></th>\n",
              "      <th></th>\n",
              "      <th></th>\n",
              "      <th></th>\n",
              "      <th></th>\n",
              "      <th></th>\n",
              "      <th></th>\n",
              "      <th></th>\n",
              "      <th></th>\n",
              "      <th></th>\n",
              "    </tr>\n",
              "  </thead>\n",
              "  <tbody>\n",
              "    <tr>\n",
              "      <th>Filly Brown</th>\n",
              "      <td>-1.328946</td>\n",
              "      <td>-0.914681</td>\n",
              "      <td>-0.505979</td>\n",
              "      <td>-0.445723</td>\n",
              "      <td>0.526844</td>\n",
              "      <td>1</td>\n",
              "      <td>0</td>\n",
              "      <td>0</td>\n",
              "      <td>0</td>\n",
              "      <td>0</td>\n",
              "      <td>0</td>\n",
              "      <td>1</td>\n",
              "      <td>0</td>\n",
              "      <td>0</td>\n",
              "      <td>0</td>\n",
              "      <td>0</td>\n",
              "      <td>0</td>\n",
              "      <td>0</td>\n",
              "      <td>0</td>\n",
              "      <td>0</td>\n",
              "      <td>1</td>\n",
              "      <td>0</td>\n",
              "      <td>0</td>\n",
              "      <td>1</td>\n",
              "      <td>1</td>\n",
              "      <td>0</td>\n",
              "      <td>0</td>\n",
              "      <td>0</td>\n",
              "      <td>0</td>\n",
              "      <td>0</td>\n",
              "    </tr>\n",
              "    <tr>\n",
              "      <th>The Dish</th>\n",
              "      <td>-0.248148</td>\n",
              "      <td>0.745795</td>\n",
              "      <td>-0.404411</td>\n",
              "      <td>1.350718</td>\n",
              "      <td>0.922510</td>\n",
              "      <td>1</td>\n",
              "      <td>0</td>\n",
              "      <td>0</td>\n",
              "      <td>0</td>\n",
              "      <td>0</td>\n",
              "      <td>0</td>\n",
              "      <td>1</td>\n",
              "      <td>0</td>\n",
              "      <td>0</td>\n",
              "      <td>0</td>\n",
              "      <td>0</td>\n",
              "      <td>0</td>\n",
              "      <td>0</td>\n",
              "      <td>0</td>\n",
              "      <td>1</td>\n",
              "      <td>0</td>\n",
              "      <td>0</td>\n",
              "      <td>0</td>\n",
              "      <td>0</td>\n",
              "      <td>1</td>\n",
              "      <td>0</td>\n",
              "      <td>0</td>\n",
              "      <td>0</td>\n",
              "      <td>0</td>\n",
              "      <td>0</td>\n",
              "    </tr>\n",
              "    <tr>\n",
              "      <th>Waiting for Guffman</th>\n",
              "      <td>-1.123080</td>\n",
              "      <td>1.022541</td>\n",
              "      <td>-0.314350</td>\n",
              "      <td>1.174596</td>\n",
              "      <td>1.417092</td>\n",
              "      <td>1</td>\n",
              "      <td>0</td>\n",
              "      <td>0</td>\n",
              "      <td>0</td>\n",
              "      <td>1</td>\n",
              "      <td>0</td>\n",
              "      <td>0</td>\n",
              "      <td>0</td>\n",
              "      <td>0</td>\n",
              "      <td>0</td>\n",
              "      <td>0</td>\n",
              "      <td>0</td>\n",
              "      <td>0</td>\n",
              "      <td>0</td>\n",
              "      <td>0</td>\n",
              "      <td>1</td>\n",
              "      <td>0</td>\n",
              "      <td>0</td>\n",
              "      <td>0</td>\n",
              "      <td>1</td>\n",
              "      <td>0</td>\n",
              "      <td>0</td>\n",
              "      <td>0</td>\n",
              "      <td>0</td>\n",
              "      <td>0</td>\n",
              "    </tr>\n",
              "    <tr>\n",
              "      <th>The Age of Innocence</th>\n",
              "      <td>1.707582</td>\n",
              "      <td>0.653546</td>\n",
              "      <td>-0.200927</td>\n",
              "      <td>0.787128</td>\n",
              "      <td>0.675219</td>\n",
              "      <td>1</td>\n",
              "      <td>0</td>\n",
              "      <td>0</td>\n",
              "      <td>0</td>\n",
              "      <td>0</td>\n",
              "      <td>0</td>\n",
              "      <td>1</td>\n",
              "      <td>0</td>\n",
              "      <td>0</td>\n",
              "      <td>0</td>\n",
              "      <td>0</td>\n",
              "      <td>0</td>\n",
              "      <td>0</td>\n",
              "      <td>1</td>\n",
              "      <td>0</td>\n",
              "      <td>0</td>\n",
              "      <td>0</td>\n",
              "      <td>0</td>\n",
              "      <td>0</td>\n",
              "      <td>1</td>\n",
              "      <td>0</td>\n",
              "      <td>1</td>\n",
              "      <td>0</td>\n",
              "      <td>1</td>\n",
              "      <td>0</td>\n",
              "    </tr>\n",
              "    <tr>\n",
              "      <th>Malevolence</th>\n",
              "      <td>-0.814281</td>\n",
              "      <td>-1.283676</td>\n",
              "      <td>-0.492714</td>\n",
              "      <td>-0.868415</td>\n",
              "      <td>-1.748234</td>\n",
              "      <td>1</td>\n",
              "      <td>0</td>\n",
              "      <td>0</td>\n",
              "      <td>0</td>\n",
              "      <td>0</td>\n",
              "      <td>0</td>\n",
              "      <td>0</td>\n",
              "      <td>1</td>\n",
              "      <td>0</td>\n",
              "      <td>0</td>\n",
              "      <td>0</td>\n",
              "      <td>0</td>\n",
              "      <td>0</td>\n",
              "      <td>0</td>\n",
              "      <td>0</td>\n",
              "      <td>1</td>\n",
              "      <td>0</td>\n",
              "      <td>0</td>\n",
              "      <td>1</td>\n",
              "      <td>0</td>\n",
              "      <td>0</td>\n",
              "      <td>0</td>\n",
              "      <td>0</td>\n",
              "      <td>0</td>\n",
              "      <td>0</td>\n",
              "    </tr>\n",
              "  </tbody>\n",
              "</table>\n",
              "</div>"
            ],
            "text/plain": [
              "                       runtime  imdb_rating  ...  best_dir_win_yes  top200_box_yes\n",
              "title                                        ...                                  \n",
              "Filly Brown          -1.328946    -0.914681  ...                 0               0\n",
              "The Dish             -0.248148     0.745795  ...                 0               0\n",
              "Waiting for Guffman  -1.123080     1.022541  ...                 0               0\n",
              "The Age of Innocence  1.707582     0.653546  ...                 1               0\n",
              "Malevolence          -0.814281    -1.283676  ...                 0               0\n",
              "\n",
              "[5 rows x 30 columns]"
            ]
          },
          "metadata": {
            "tags": []
          },
          "execution_count": 7
        }
      ]
    },
    {
      "cell_type": "markdown",
      "metadata": {
        "id": "GJX9uPo93LEf"
      },
      "source": [
        "We will now split the data for training and testing using train_test_split to get a testing dataset containing 20% of all the values, and the other 80% will be used to train our model.  "
      ]
    },
    {
      "cell_type": "code",
      "metadata": {
        "id": "uhH-fVGtUGrh",
        "colab": {
          "base_uri": "https://localhost:8080/"
        },
        "outputId": "4ddf741a-e47a-4bdf-97c2-c6a75792ccf7"
      },
      "source": [
        "#Split the data into training and testing sets:\n",
        "from sklearn.model_selection import train_test_split\n",
        "\n",
        "X = data.drop('best_pic_win_yes', axis=1).values\n",
        "y = data.loc[:,'best_pic_win_yes'].values\n",
        "\n",
        "from sklearn.model_selection import train_test_split\n",
        "\n",
        "X_train, X_test, y_train, y_test = train_test_split(X, y, test_size=0.2, shuffle=True, random_state=51)\n",
        "\n",
        "print(f\"Train size ={X_train.shape[0]}\")\n",
        "print(f\"Test size ={X_test.shape[0]}\") "
      ],
      "execution_count": null,
      "outputs": [
        {
          "output_type": "stream",
          "text": [
            "Train size =520\n",
            "Test size =130\n"
          ],
          "name": "stdout"
        }
      ]
    },
    {
      "cell_type": "markdown",
      "metadata": {
        "id": "-tH2sDJzUXAS"
      },
      "source": [
        "We will now implement Logistic Regression to solve the classification problem. We can show the accuracy for both the training and testing set, with training having a higher accuracy since this is the data we are using to train our model."
      ]
    },
    {
      "cell_type": "code",
      "metadata": {
        "id": "6RLoqA95UaJ1",
        "colab": {
          "base_uri": "https://localhost:8080/"
        },
        "outputId": "679caee1-d780-4570-88e6-fe24f83704fd"
      },
      "source": [
        "from sklearn.linear_model import LogisticRegression\n",
        "\n",
        "logreg=LogisticRegression()\n",
        "\n",
        "#train a logistic regression model\n",
        "logreg.fit(X_train, y_train)\n",
        "\n",
        "#Show accuracy of using the logreg.score() using the test set\n",
        "print(f'Training accuracy: {logreg.score(X_train, y_train)}')\n",
        "print(f'Testing accuracy: {logreg.score(X_test, y_test)}')"
      ],
      "execution_count": null,
      "outputs": [
        {
          "output_type": "stream",
          "text": [
            "Training accuracy: 0.9942307692307693\n",
            "Testing accuracy: 0.9769230769230769\n"
          ],
          "name": "stdout"
        }
      ]
    },
    {
      "cell_type": "markdown",
      "metadata": {
        "id": "aooNP-GZUSBx"
      },
      "source": [
        "Now we will use the magnitudes of the learned weights to gain insight regarding which variables are more important for the prediction."
      ]
    },
    {
      "cell_type": "markdown",
      "metadata": {
        "id": "gwFc1NRkU7FE"
      },
      "source": [
        "First, we access the learned parameters from the model we just trained and display them."
      ]
    },
    {
      "cell_type": "code",
      "metadata": {
        "id": "-nCqhGyPUIz1",
        "colab": {
          "base_uri": "https://localhost:8080/"
        },
        "outputId": "4524d0f0-32c7-46f7-8dfe-d264340691af"
      },
      "source": [
        "print(f'Model Coefficients: {logreg.coef_}')\n",
        "print(f'Model y-Intercept ie θ zero: {logreg.intercept_}')"
      ],
      "execution_count": null,
      "outputs": [
        {
          "output_type": "stream",
          "text": [
            "Model Coefficients: [[ 0.52064358  0.33780387  0.4840387   0.68376668  0.32125095  0.17309428\n",
            "  -0.00327131 -0.00708148 -0.00695411  0.68306872 -0.15199916  0.12327447\n",
            "  -0.00758357 -0.03197193 -0.03664014 -0.07072594 -0.10557272 -0.00215682\n",
            "   0.46738585 -0.37702732  0.07941289 -0.15087871 -0.53122092 -0.14817306\n",
            "   0.12487278  0.21855198  0.36609247  1.63279874 -0.15826202]]\n",
            "Model y-Intercept ie θ zero: [-7.37508959]\n"
          ],
          "name": "stdout"
        }
      ]
    },
    {
      "cell_type": "markdown",
      "metadata": {
        "id": "q7aJjzY-VE2k"
      },
      "source": [
        "Knowing that we scaled our features and therefore parameters with higher magnitudes indicate more important features, we can visualize the parameter magnitude for each feature (for magnitude we use the absolute value of the parameter to make the comparison easier)."
      ]
    },
    {
      "cell_type": "code",
      "metadata": {
        "id": "ohwy7f26W5pn",
        "colab": {
          "base_uri": "https://localhost:8080/",
          "height": 705
        },
        "outputId": "6233f093-a4a7-4e43-c6c8-a8436d1ce15e"
      },
      "source": [
        "list_features = list(data.drop('best_pic_win_yes', axis=1).columns)\n",
        "absolute_params = np.abs(logreg.coef_[0])\n",
        "plt.figure(figsize=(12,9))\n",
        "plt.bar(x=list_features, height=absolute_params)\n",
        "plt.xticks(rotation=90);\n",
        "plt.xlabel('Features');\n",
        "plt.ylabel('Model Parameters');\n",
        "plt.grid()"
      ],
      "execution_count": null,
      "outputs": [
        {
          "output_type": "display_data",
          "data": {
            "image/png": "[encoded data removed]",
            "text/plain": [
              "<Figure size 864x648 with 1 Axes>"
            ]
          },
          "metadata": {
            "tags": [],
            "needs_background": "light"
          }
        }
      ]
    },
    {
      "cell_type": "markdown",
      "metadata": {
        "id": "4bOQ82ZZVK6c"
      },
      "source": [
        "Based on what we see in the above plot, the most important characteristic of a movie that could lead to winning an Oscar, is whether the director had previously won an Oscar in his career."
      ]
    },
    {
      "cell_type": "markdown",
      "metadata": {
        "id": "shhelRq4V0u7"
      },
      "source": [
        "4) The LogisticRegression class implements by default the L2 norm regularization. Repeat the steps from parts 2 and 3 with L1 (Lasso) regularization."
      ]
    },
    {
      "cell_type": "code",
      "metadata": {
        "id": "-oDd38IRVHIP",
        "colab": {
          "base_uri": "https://localhost:8080/"
        },
        "outputId": "03b30a07-0cb7-48a6-c1f3-7261d1092d16"
      },
      "source": [
        "lasso = LogisticRegression(penalty='l1', solver='liblinear', random_state=12);\n",
        "#Train the model\n",
        "lasso.fit(X_train, y_train)\n",
        "#evaluate\n",
        "print(f'Training accuracy: {lasso.score(X_train, y_train)}')\n",
        "print(f'Testing accuracy: {lasso.score(X_test, y_test)}')"
      ],
      "execution_count": null,
      "outputs": [
        {
          "output_type": "stream",
          "text": [
            "Training accuracy: 0.9942307692307693\n",
            "Testing accuracy: 0.9846153846153847\n"
          ],
          "name": "stdout"
        }
      ]
    },
    {
      "cell_type": "code",
      "metadata": {
        "id": "PpugouHxWuOm",
        "colab": {
          "base_uri": "https://localhost:8080/"
        },
        "outputId": "2bce80dc-a101-41b6-d603-94f7ff57611f"
      },
      "source": [
        "#Print Coefficients\n",
        "print(lasso.coef_[0])"
      ],
      "execution_count": null,
      "outputs": [
        {
          "output_type": "stream",
          "text": [
            "[ 0.31031845  0.          0.50917585  0.25855662  0.01225896  0.\n",
            "  0.          0.          0.          0.          0.          0.\n",
            "  0.          0.          0.          0.          0.          0.\n",
            "  0.          0.          0.          0.         -0.17002828  0.\n",
            "  0.          0.          0.          2.31519402  0.        ]\n"
          ],
          "name": "stdout"
        }
      ]
    },
    {
      "cell_type": "code",
      "metadata": {
        "id": "-Emj55ULW0bE",
        "colab": {
          "base_uri": "https://localhost:8080/",
          "height": 705
        },
        "outputId": "aa19d2f7-5fa9-45f1-c47f-fd7ffa5527aa"
      },
      "source": [
        "#Plot \n",
        "absolute_params1 = np.abs(lasso.coef_[0])\n",
        "plt.figure(figsize=(12,9))\n",
        "plt.bar(x=list_features, height=absolute_params1)\n",
        "plt.xticks(rotation=90);\n",
        "plt.xlabel('Features');\n",
        "plt.ylabel('Lasso Model Parameters');\n",
        "plt.grid()"
      ],
      "execution_count": null,
      "outputs": [
        {
          "output_type": "display_data",
          "data": {
            "image/png": "[encoded data removed]",
            "text/plain": [
              "<Figure size 864x648 with 1 Axes>"
            ]
          },
          "metadata": {
            "tags": [],
            "needs_background": "light"
          }
        }
      ]
    },
    {
      "cell_type": "markdown",
      "metadata": {
        "id": "Dv4M1m8mWjJo"
      },
      "source": [
        "5) Compare the resulting Lasso Weights to the weights you got before and comment on the difference."
      ]
    },
    {
      "cell_type": "markdown",
      "metadata": {
        "id": "PTHeYzucWl-i"
      },
      "source": [
        "* Many weights were brought down to zero.\n",
        "* The weights that are nonzero are the same weights that were found to be of highest importance by the L2 model.\n",
        "* L1 selects only the most important features."
      ]
    },
    {
      "cell_type": "code",
      "metadata": {
        "id": "DtUPWyL0e_3g"
      },
      "source": [
        ""
      ],
      "execution_count": null,
      "outputs": []
    }
  ]
}